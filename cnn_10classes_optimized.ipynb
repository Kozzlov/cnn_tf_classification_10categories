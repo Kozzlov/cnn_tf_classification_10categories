{
  "nbformat": 4,
  "nbformat_minor": 0,
  "metadata": {
    "colab": {
      "name": "cnn_10classes_optimized.ipynb",
      "provenance": [],
      "collapsed_sections": [],
      "authorship_tag": "ABX9TyMTqX4H4ebhlcr78Q+tkkED",
      "include_colab_link": true
    },
    "kernelspec": {
      "name": "python3",
      "display_name": "Python 3"
    },
    "accelerator": "GPU"
  },
  "cells": [
    {
      "cell_type": "markdown",
      "metadata": {
        "id": "view-in-github",
        "colab_type": "text"
      },
      "source": [
        "<a href=\"https://colab.research.google.com/github/Kozzlov/cnn_tf_classification_10categories/blob/main/cnn_10classes_optimized.ipynb\" target=\"_parent\"><img src=\"https://colab.research.google.com/assets/colab-badge.svg\" alt=\"Open In Colab\"/></a>"
      ]
    },
    {
      "cell_type": "code",
      "metadata": {
        "id": "JJd9gnOMJvF-"
      },
      "source": [
        "import tensorflow as tf\r\n",
        "from tensorflow.keras import datasets, layers, models\r\n",
        "import matplotlib.pyplot as plt"
      ],
      "execution_count": 75,
      "outputs": []
    },
    {
      "cell_type": "code",
      "metadata": {
        "id": "A4QmRbqRKjsF"
      },
      "source": [
        "#downloading CIFAR10 dataset = 10 categories\r\n",
        "(train_images, train_labels), (test_images, test_labels) = datasets.cifar10.load_data()\r\n",
        "#normalize pixel values to be between 0 and 1\r\n",
        "train_images, test_images = train_images / 255.0, test_images / 255.0\r\n",
        "#verify the data\r\n",
        "class_names = ['airplane',\r\n",
        "               'automobile',\r\n",
        "               'bird', 'cat', \r\n",
        "               'deer', 'dog',\r\n",
        "               'frog', 'horse',\r\n",
        "               'ship', 'truck']\r\n",
        "# plt.figure(figsize=(10,10))\r\n",
        "# for i in range(25):\r\n",
        "#     plt.subplot(5,5,i+1)\r\n",
        "#     plt.xticks([])\r\n",
        "#     plt.yticks([])\r\n",
        "#     plt.grid(False)\r\n",
        "#     plt.imshow(train_images[i], cmap=plt.cm.binary)\r\n",
        "#     # The CIFAR labels happen to be arrays, \r\n",
        "#     # which is why you need the extra index\r\n",
        "#     plt.xlabel(class_names[train_labels[i][0]])\r\n",
        "# plt.show()"
      ],
      "execution_count": 76,
      "outputs": []
    },
    {
      "cell_type": "code",
      "metadata": {
        "id": "hIRIN-anONOs",
        "colab": {
          "base_uri": "https://localhost:8080/"
        },
        "outputId": "48bbdab9-defc-49ba-9306-064a16683190"
      },
      "source": [
        "#create a convolution base \r\n",
        "model = models.Sequential()\r\n",
        "model.add(layers.Conv2D(32, (3, 3), activation = 'relu', input_shape=(32, 32, 3)))\r\n",
        "model.add(layers.MaxPooling2D((2, 2)))\r\n",
        "model.add(layers.Dropout(0.25))\r\n",
        "model.add(layers.Conv2D(64, (3, 3), activation='relu'))\r\n",
        "model.add(layers.MaxPooling2D((2, 2)))\r\n",
        "model.add(layers.Dropout(0.25))\r\n",
        "model.add(layers.Conv2D(64, (3, 3), activation='relu'))\r\n",
        "model.add(layers.Flatten())\r\n",
        "model.add(layers.Dense(64, activation='relu'))\r\n",
        "model.add(layers.Dense(10))\r\n",
        "model.summary()"
      ],
      "execution_count": 109,
      "outputs": [
        {
          "output_type": "stream",
          "text": [
            "Model: \"sequential_44\"\n",
            "_________________________________________________________________\n",
            "Layer (type)                 Output Shape              Param #   \n",
            "=================================================================\n",
            "conv2d_121 (Conv2D)          (None, 30, 30, 32)        896       \n",
            "_________________________________________________________________\n",
            "max_pooling2d_81 (MaxPooling (None, 15, 15, 32)        0         \n",
            "_________________________________________________________________\n",
            "dropout_66 (Dropout)         (None, 15, 15, 32)        0         \n",
            "_________________________________________________________________\n",
            "conv2d_122 (Conv2D)          (None, 13, 13, 64)        18496     \n",
            "_________________________________________________________________\n",
            "max_pooling2d_82 (MaxPooling (None, 6, 6, 64)          0         \n",
            "_________________________________________________________________\n",
            "dropout_67 (Dropout)         (None, 6, 6, 64)          0         \n",
            "_________________________________________________________________\n",
            "conv2d_123 (Conv2D)          (None, 4, 4, 64)          36928     \n",
            "_________________________________________________________________\n",
            "flatten_38 (Flatten)         (None, 1024)              0         \n",
            "_________________________________________________________________\n",
            "dense_76 (Dense)             (None, 64)                65600     \n",
            "_________________________________________________________________\n",
            "dense_77 (Dense)             (None, 10)                650       \n",
            "=================================================================\n",
            "Total params: 122,570\n",
            "Trainable params: 122,570\n",
            "Non-trainable params: 0\n",
            "_________________________________________________________________\n"
          ],
          "name": "stdout"
        }
      ]
    },
    {
      "cell_type": "code",
      "metadata": {
        "colab": {
          "base_uri": "https://localhost:8080/"
        },
        "id": "K5pUl09A5IpR",
        "outputId": "0ab9e0d7-1a21-4e34-c6dd-393929fe2b22"
      },
      "source": [
        "model.compile(optimizer=tf.keras.optimizers.Adam(learning_rate=0.001),\r\n",
        "              loss=tf.keras.losses.SparseCategoricalCrossentropy(from_logits=True),\r\n",
        "              metrics=['accuracy'])\r\n",
        "history = model.fit(train_images,\r\n",
        "                    train_labels, \r\n",
        "                    epochs=20,\r\n",
        "                    validation_data=(test_images, test_labels))"
      ],
      "execution_count": 110,
      "outputs": [
        {
          "output_type": "stream",
          "text": [
            "Epoch 1/20\n",
            "1563/1563 [==============================] - 6s 4ms/step - loss: 1.7808 - accuracy: 0.3398 - val_loss: 1.2452 - val_accuracy: 0.5583\n",
            "Epoch 2/20\n",
            "1563/1563 [==============================] - 6s 4ms/step - loss: 1.2454 - accuracy: 0.5574 - val_loss: 1.1040 - val_accuracy: 0.6111\n",
            "Epoch 3/20\n",
            "1563/1563 [==============================] - 6s 4ms/step - loss: 1.0937 - accuracy: 0.6130 - val_loss: 0.9720 - val_accuracy: 0.6563\n",
            "Epoch 4/20\n",
            "1563/1563 [==============================] - 6s 4ms/step - loss: 0.9788 - accuracy: 0.6559 - val_loss: 0.9459 - val_accuracy: 0.6683\n",
            "Epoch 5/20\n",
            "1563/1563 [==============================] - 6s 4ms/step - loss: 0.9151 - accuracy: 0.6792 - val_loss: 0.9176 - val_accuracy: 0.6812\n",
            "Epoch 6/20\n",
            "1563/1563 [==============================] - 6s 4ms/step - loss: 0.8687 - accuracy: 0.6932 - val_loss: 0.8561 - val_accuracy: 0.7002\n",
            "Epoch 7/20\n",
            "1563/1563 [==============================] - 6s 4ms/step - loss: 0.8279 - accuracy: 0.7074 - val_loss: 0.8431 - val_accuracy: 0.7064\n",
            "Epoch 8/20\n",
            "1563/1563 [==============================] - 6s 4ms/step - loss: 0.8014 - accuracy: 0.7168 - val_loss: 0.8528 - val_accuracy: 0.7045\n",
            "Epoch 9/20\n",
            "1563/1563 [==============================] - 6s 4ms/step - loss: 0.7744 - accuracy: 0.7272 - val_loss: 0.8648 - val_accuracy: 0.7009\n",
            "Epoch 10/20\n",
            "1563/1563 [==============================] - 6s 4ms/step - loss: 0.7453 - accuracy: 0.7348 - val_loss: 0.8355 - val_accuracy: 0.7170\n",
            "Epoch 11/20\n",
            "1563/1563 [==============================] - 6s 4ms/step - loss: 0.7242 - accuracy: 0.7436 - val_loss: 0.8470 - val_accuracy: 0.7076\n",
            "Epoch 12/20\n",
            "1563/1563 [==============================] - 6s 4ms/step - loss: 0.7048 - accuracy: 0.7493 - val_loss: 0.7954 - val_accuracy: 0.7245\n",
            "Epoch 13/20\n",
            "1563/1563 [==============================] - 6s 4ms/step - loss: 0.6818 - accuracy: 0.7587 - val_loss: 0.7853 - val_accuracy: 0.7298\n",
            "Epoch 14/20\n",
            "1563/1563 [==============================] - 6s 4ms/step - loss: 0.6727 - accuracy: 0.7610 - val_loss: 0.7991 - val_accuracy: 0.7272\n",
            "Epoch 15/20\n",
            "1563/1563 [==============================] - 6s 4ms/step - loss: 0.6529 - accuracy: 0.7675 - val_loss: 0.7704 - val_accuracy: 0.7370\n",
            "Epoch 16/20\n",
            "1563/1563 [==============================] - 6s 4ms/step - loss: 0.6481 - accuracy: 0.7680 - val_loss: 0.7812 - val_accuracy: 0.7311\n",
            "Epoch 17/20\n",
            "1563/1563 [==============================] - 6s 4ms/step - loss: 0.6264 - accuracy: 0.7793 - val_loss: 0.8181 - val_accuracy: 0.7232\n",
            "Epoch 18/20\n",
            "1563/1563 [==============================] - 6s 4ms/step - loss: 0.6240 - accuracy: 0.7798 - val_loss: 0.7858 - val_accuracy: 0.7390\n",
            "Epoch 19/20\n",
            "1563/1563 [==============================] - 6s 4ms/step - loss: 0.6055 - accuracy: 0.7838 - val_loss: 0.7717 - val_accuracy: 0.7399\n",
            "Epoch 20/20\n",
            "1563/1563 [==============================] - 6s 4ms/step - loss: 0.6060 - accuracy: 0.7835 - val_loss: 0.7786 - val_accuracy: 0.7382\n"
          ],
          "name": "stdout"
        }
      ]
    },
    {
      "cell_type": "code",
      "metadata": {
        "colab": {
          "base_uri": "https://localhost:8080/",
          "height": 319
        },
        "id": "lB6rzRaOAgZi",
        "outputId": "64c113a5-afa2-4bf1-9749-b85a102b15e8"
      },
      "source": [
        "plt.plot(history.history['accuracy'], label='accuracy')\r\n",
        "plt.plot(history.history['val_accuracy'], label='val_accuracy')\r\n",
        "plt.xlabel('epochs')\r\n",
        "plt.ylabel('accuracy')\r\n",
        "plt.ylim([0.5, 1])\r\n",
        "plt.legend(loc='lower right')\r\n",
        "\r\n",
        "test_loss, test_acc = model.evaluate(test_images, test_labels, verbose=2)\r\n",
        "\r\n",
        "print(test_acc)"
      ],
      "execution_count": 111,
      "outputs": [
        {
          "output_type": "stream",
          "text": [
            "313/313 - 1s - loss: 0.7786 - accuracy: 0.7382\n",
            "0.7382000088691711\n"
          ],
          "name": "stdout"
        },
        {
          "output_type": "display_data",
          "data": {
            "image/png": "[encoded data removed]",
            "text/plain": [
              "<Figure size 432x288 with 1 Axes>"
            ]
          },
          "metadata": {
            "tags": [],
            "needs_background": "light"
          }
        }
      ]
    }
  ]
}